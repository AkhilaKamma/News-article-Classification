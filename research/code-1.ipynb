{
  "nbformat": 4,
  "nbformat_minor": 0,
  "metadata": {
    "colab": {
      "provenance": []
    },
    "kernelspec": {
      "name": "python3",
      "display_name": "Python 3"
    },
    "language_info": {
      "name": "python"
    }
  },
  "cells": [
    {
      "cell_type": "code",
      "execution_count": 32,
      "metadata": {
        "id": "RNkxSfROi7ff"
      },
      "outputs": [],
      "source": [
        "#Note: Try to execute all the cells in a Sequential Manner\n",
        "#References: 1.torch.ipynb shared by professor. Used it to generate the Modeling part i.e Part 1\n",
        "#            2. https://machinelearningmastery.com/develop-word-embeddings-python-gensim/ to understand and genertate Gensim to word2vecc"
      ]
    },
    {
      "cell_type": "code",
      "source": [
        "#Importing all the packages\n",
        "import pandas as pd\n",
        "import string,nltk,json\n",
        "nltk.download('stopwords')\n",
        "nltk.download('punkt')\n",
        "from nltk.corpus import stopwords\n",
        "from nltk.tokenize import word_tokenize\n",
        "import matplotlib.pyplot as plt\n",
        "from nltk.stem.porter import *\n",
        "from sklearn.model_selection import KFold,train_test_split,cross_val_score\n",
        "from sklearn.feature_extraction.text import TfidfVectorizer,CountVectorizer\n",
        "from sklearn.metrics import accuracy_score, classification_report\n",
        "import numpy as np\n",
        "import seaborn as sns\n",
        "from sklearn.neural_network import MLPClassifier\n",
        "from sklearn.model_selection import train_test_split\n",
        "from sklearn.metrics import accuracy_score\n",
        "from gensim.models import KeyedVectors\n",
        "from gensim.scripts.glove2word2vec import glove2word2vec\n",
        "from sklearn.preprocessing import LabelEncoder\n",
        "from tensorflow import keras\n",
        "from nltk.util import ngrams\n",
        "import torch\n",
        "from torch import nn\n",
        "from torch import optim\n",
        "from torch.utils.data import Dataset, DataLoader,TensorDataset\n",
        "import spacy\n",
        "nlp = spacy.load(\"en_core_web_sm\")"
      ],
      "metadata": {
        "colab": {
          "base_uri": "https://localhost:8080/"
        },
        "id": "_cwmjj3SKIHA",
        "outputId": "82b59fa9-48c7-4f14-9ba7-09990062432a"
      },
      "execution_count": 17,
      "outputs": [
        {
          "output_type": "stream",
          "name": "stderr",
          "text": [
            "[nltk_data] Downloading package stopwords to /root/nltk_data...\n",
            "[nltk_data]   Package stopwords is already up-to-date!\n",
            "[nltk_data] Downloading package punkt to /root/nltk_data...\n",
            "[nltk_data]   Package punkt is already up-to-date!\n"
          ]
        }
      ]
    },
    {
      "cell_type": "code",
      "source": [
        "train_df = pd.read_csv('news-train-1.csv')\n",
        "test_df = pd.read_csv(\"news-test.csv\")"
      ],
      "metadata": {
        "id": "HflhFjp8kRtx"
      },
      "execution_count": 18,
      "outputs": []
    },
    {
      "cell_type": "markdown",
      "source": [
        "# Preprocessing from HW1"
      ],
      "metadata": {
        "id": "0hyTUaf0Xp7z"
      }
    },
    {
      "cell_type": "code",
      "source": [
        "#Preprocessing code from HW1\n",
        "ps = PorterStemmer()\n",
        "remove_punctuation = dict((ord(char), None) for char in string.punctuation)\n",
        "def get_processed_tokens(text):\n",
        "    lowers = text.lower()\n",
        "    no_punctuation = lowers.translate(remove_punctuation)\n",
        "    tokens = nltk.word_tokenize(no_punctuation)\n",
        "    filtered = [word for word in tokens if not word in stopwords.words('english')]\n",
        "    lemmatized_words = [ps.stem(item) for item in filtered]\n",
        "    Cleaned_text = ' '.join(lemmatized_words)\n",
        "    return Cleaned_text\n",
        "train_df['cleaned_text'] = train_df['Text'].apply(lambda x: get_processed_tokens(x))\n",
        "test_df['cleaned_text'] = test_df['Text'].apply(lambda x: get_processed_tokens(x))"
      ],
      "metadata": {
        "id": "G5i2ZGmZkVYR"
      },
      "execution_count": 19,
      "outputs": []
    },
    {
      "cell_type": "code",
      "source": [
        "# Function to generate bigrams for a given text\n",
        "def generate_bigrams(text):\n",
        "    # Tokenize the text\n",
        "    tokens = nltk.word_tokenize(text)\n",
        "    # Generate bigrams\n",
        "    bigrams = list(ngrams(tokens, 2))\n",
        "    return bigrams\n",
        "\n",
        "train_df['bigrams'] = train_df['cleaned_text'].apply(lambda x: generate_bigrams(x))"
      ],
      "metadata": {
        "id": "S7ckpEdxkiCX"
      },
      "execution_count": 20,
      "outputs": []
    },
    {
      "cell_type": "code",
      "source": [
        "# Function to get the keywords\n",
        "def get_keywords(text):\n",
        "  doc = nlp(text)\n",
        "  keywords = [token.text for token in doc if token.pos_ in [\"NOUN\", \"ADJ\"]]\n",
        "  return keywords\n",
        "\n",
        "train_df['keywords'] = train_df['cleaned_text'].apply(lambda x: get_keywords(x))"
      ],
      "metadata": {
        "id": "ANMdZhX8J9QC"
      },
      "execution_count": null,
      "outputs": []
    },
    {
      "cell_type": "markdown",
      "source": [
        "# Building Neural Network Model in Torch"
      ],
      "metadata": {
        "id": "C-RS11UIki_g"
      }
    },
    {
      "cell_type": "code",
      "source": [
        "##To maintain all the accuracies across different features\n",
        "features_list = []\n",
        "train_accuracy_scores = []\n",
        "test_accuracy_scores = []\n",
        "train_accuracy_stddev = []\n",
        "test_accuracy_stddev = []"
      ],
      "metadata": {
        "id": "s47_VBCVCoe1"
      },
      "execution_count": 21,
      "outputs": []
    },
    {
      "cell_type": "code",
      "source": [
        "#neural network class with 2 hidden layers\n",
        "class NeuralNetwork(nn.Module):\n",
        "    def __init__(self, input_size, hidden_size1, hidden_size2, output_size):\n",
        "        super(NeuralNetwork, self).__init__()\n",
        "        self.layer_1 = nn.Linear(input_size, hidden_size1)\n",
        "        nn.init.kaiming_uniform_(self.layer_1.weight, nonlinearity=\"relu\")\n",
        "        self.layer_2 = nn.Linear(hidden_size1, hidden_size2)\n",
        "        nn.init.kaiming_uniform_(self.layer_2.weight, nonlinearity=\"relu\")\n",
        "        self.layer_3 = nn.Linear(hidden_size2, output_size)\n",
        "\n",
        "    def forward(self, x):\n",
        "        x = torch.nn.functional.relu(self.layer_1(x))\n",
        "        x = torch.nn.functional.relu(self.layer_2(x))\n",
        "        x = self.layer_3(x)\n",
        "        return x"
      ],
      "metadata": {
        "id": "iE-_1dDqkk6I"
      },
      "execution_count": 22,
      "outputs": []
    },
    {
      "cell_type": "code",
      "source": [
        "# Convert data to torch tensors\n",
        "class Data(Dataset):\n",
        "    def __init__(self, X, y):\n",
        "        self.X = torch.from_numpy(X.astype(np.float32))\n",
        "        self.y = torch.from_numpy(y.astype(np.float32))\n",
        "        self.len = self.X.shape[0]\n",
        "\n",
        "    def __getitem__(self, index):\n",
        "        return self.X[index], self.y[index]\n",
        "\n",
        "    def __len__(self):\n",
        "        return self.len"
      ],
      "metadata": {
        "id": "EbeEV3wBl1zC"
      },
      "execution_count": 23,
      "outputs": []
    },
    {
      "cell_type": "code",
      "source": [
        "#performs model evaluation\n",
        "def evaluate(model, dataloader):\n",
        "    correct = 0\n",
        "    total = 0\n",
        "    model.eval()\n",
        "    with torch.no_grad():\n",
        "        for X, y in dataloader:\n",
        "            outputs = model(X)\n",
        "            _, predicted = torch.max(outputs.data, 1)\n",
        "            total += y.size(0)\n",
        "            correct += (predicted == y).sum().item()\n",
        "    return 100 * (correct / total)"
      ],
      "metadata": {
        "id": "kQHFCYpRl6L6"
      },
      "execution_count": 24,
      "outputs": []
    },
    {
      "cell_type": "code",
      "source": [
        "# Train the model\n",
        "def train_model(model,optimizer,train_dataloader,loss_fn):\n",
        "    for epoch in range(100):\n",
        "        for X, y in train_dataloader:\n",
        "            optimizer.zero_grad()\n",
        "            pred = model(X)\n",
        "            loss = loss_fn(pred, y.long())\n",
        "            loss.backward()\n",
        "            optimizer.step()"
      ],
      "metadata": {
        "id": "vvWepk7xPfEF"
      },
      "execution_count": 25,
      "outputs": []
    },
    {
      "cell_type": "code",
      "source": [
        " # Convert data to DataLoader format\n",
        "def data_format(X_train_split,y_train_split,X_val_split,y_val_split):\n",
        "    train_data = Data(X_train_split, y_train_split)\n",
        "    train_loader = DataLoader(dataset=train_data, batch_size=64, shuffle=True)\n",
        "    val_data = Data(X_val_split, y_val_split)\n",
        "    val_loader = DataLoader(dataset=val_data, batch_size=64, shuffle=True)\n",
        "    return train_loader,val_loader"
      ],
      "metadata": {
        "id": "xkjBJ5wKR3at"
      },
      "execution_count": 26,
      "outputs": []
    },
    {
      "cell_type": "code",
      "source": [
        "def perform_k_fold_CV(X_train, y_train,feature_method):\n",
        "    # Split the data using 5-fold cross-validation\n",
        "    kf = KFold(n_splits=5)\n",
        "    train_per = []\n",
        "    val_per = []\n",
        "\n",
        "    for ind1, ind2 in kf.split(np.array(X_train)):\n",
        "        #initialize the model for each fold\n",
        "        model = NeuralNetwork(X_train.shape[1], 128, 128, len(np.unique(y_train)))\n",
        "        loss_fn = nn.CrossEntropyLoss()\n",
        "        optimizer = optim.Adam(model.parameters(), lr=0.001)\n",
        "        X_train_split, X_val_split = np.array(X_train)[ind1], np.array(X_train)[ind2]\n",
        "        y_train_split, y_val_split = np.array(y_train)[ind1], np.array(y_train)[ind2]\n",
        "\n",
        "        # Convert data to DataLoader format\n",
        "        train_loader,val_loader = data_format(X_train_split,y_train_split,X_val_split,y_val_split)\n",
        "\n",
        "        # Train the model\n",
        "        train_model(model,optimizer,train_loader,loss_fn)\n",
        "\n",
        "        # Evaluate on training and validation data\n",
        "        train_per.append(evaluate(model, train_loader))\n",
        "        val_per.append(evaluate(model, val_loader))\n",
        "\n",
        "    print(f\"Train accuraccy: {train_per}\")\n",
        "    print(f\"Evaluation accuraccy: {val_per}\")\n",
        "\n",
        "    #store all the accuracies\n",
        "    features_list.append(feature_method)\n",
        "    train_accuracy_scores.append(np.mean(train_per))\n",
        "    test_accuracy_scores.append(np.mean(val_per))\n",
        "    train_accuracy_stddev.append(np.std(train_per))\n",
        "    test_accuracy_stddev.append(np.std(val_per))"
      ],
      "metadata": {
        "id": "Hq8UTtHdl9cd"
      },
      "execution_count": 27,
      "outputs": []
    },
    {
      "cell_type": "code",
      "source": [],
      "metadata": {
        "id": "FmUBCaibgsLQ"
      },
      "execution_count": 27,
      "outputs": []
    },
    {
      "cell_type": "markdown",
      "source": [
        "# Different Features Exploration"
      ],
      "metadata": {
        "id": "9Fmc-8TfXd9y"
      }
    },
    {
      "cell_type": "code",
      "source": [
        "X_train = train_df['cleaned_text'].copy()\n",
        "y_train = train_df['Category'].copy()"
      ],
      "metadata": {
        "id": "KDyD-JebXcsD"
      },
      "execution_count": null,
      "outputs": []
    },
    {
      "cell_type": "code",
      "source": [
        "#Transform your text data using Count Vectorizer\n",
        "vectorizer = CountVectorizer()\n",
        "X_train_trans = vectorizer.fit_transform(X_train)\n",
        "X_train_trans = X_train_trans.toarray()\n",
        "\n",
        "#Encode the y_train data\n",
        "label_encoder = LabelEncoder()\n",
        "y_train_encoded = label_encoder.fit_transform(y_train)\n",
        "perform_k_fold_CV(X_train_trans, y_train_encoded,\"Count Vectorizer\")"
      ],
      "metadata": {
        "colab": {
          "base_uri": "https://localhost:8080/"
        },
        "id": "v4tTRQdPndOt",
        "outputId": "f1c779a4-aad9-4805-a3a3-ccbac5947fe9"
      },
      "execution_count": null,
      "outputs": [
        {
          "output_type": "stream",
          "name": "stdout",
          "text": [
            "Train accuraccy: [100.0, 100.0, 100.0, 100.0, 100.0]\n",
            "Evaluation accuraccy: [95.77464788732394, 95.77464788732394, 98.12206572769952, 96.22641509433963, 97.64150943396226]\n"
          ]
        }
      ]
    },
    {
      "cell_type": "code",
      "source": [
        "#Transform your text data using TfidfVectorizer\n",
        "tfidf_vectorizer = TfidfVectorizer()\n",
        "X_train_tfidf = tfidf_vectorizer.fit_transform(X_train)\n",
        "X_train_tfidf = X_train_tfidf.toarray()\n",
        "\n",
        "#Perform LabelEncoder\n",
        "label_encoder = LabelEncoder()\n",
        "y_train_encoded = label_encoder.fit_transform(y_train)\n",
        "perform_k_fold_CV(X_train_tfidf, y_train_encoded,\"TF-IDF\")"
      ],
      "metadata": {
        "colab": {
          "base_uri": "https://localhost:8080/"
        },
        "id": "oYZk7IdhYahP",
        "outputId": "68b64b90-1aab-412a-bf5d-7da8232eea79"
      },
      "execution_count": null,
      "outputs": [
        {
          "output_type": "stream",
          "name": "stdout",
          "text": [
            "Train accuraccy: [100.0, 100.0, 100.0, 100.0, 100.0]\n",
            "Evaluation accuraccy: [96.71361502347418, 97.65258215962442, 98.59154929577466, 96.22641509433963, 98.58490566037736]\n"
          ]
        }
      ]
    },
    {
      "cell_type": "code",
      "source": [],
      "metadata": {
        "id": "hw3_l4PyF15Y"
      },
      "execution_count": null,
      "outputs": []
    },
    {
      "cell_type": "markdown",
      "source": [
        "**Gensim with Glove -> Word2Vec**\n",
        "\n",
        "you can find different versions of Glove in below URL:\n",
        "http://nlp.stanford.edu/data/glove.6B.zip\n",
        "Dowload Glove file:\n",
        "https://nlp.stanford.edu/projects/glove/\n",
        "\n",
        "I have referred the below article to understand Glove with gensim:\n",
        "https://machinelearningmastery.com/develop-word-embeddings-python-gensim/"
      ],
      "metadata": {
        "id": "iC4OsWnSGELw"
      }
    },
    {
      "cell_type": "code",
      "source": [
        "glove_input_file = 'glove.6B.50d.txt'\n",
        "word2vec_output_file = 'glove.6B.50d.txt.word2vec'\n",
        "glove2word2vec(glove_input_file, word2vec_output_file)\n",
        "glove_model = KeyedVectors.load_word2vec_format(word2vec_output_file, binary=False)"
      ],
      "metadata": {
        "colab": {
          "base_uri": "https://localhost:8080/"
        },
        "id": "KPWth10iqV9i",
        "outputId": "0e0cd536-fa86-47fb-bfcb-90017221f1b2"
      },
      "execution_count": null,
      "outputs": [
        {
          "output_type": "stream",
          "name": "stderr",
          "text": [
            "<ipython-input-136-8338421c53c6>:3: DeprecationWarning: Call to deprecated `glove2word2vec` (KeyedVectors.load_word2vec_format(.., binary=False, no_header=True) loads GLoVE text vectors.).\n",
            "  glove2word2vec(glove_input_file, word2vec_output_file)\n"
          ]
        }
      ]
    },
    {
      "cell_type": "code",
      "source": [
        "X = train_df['cleaned_text']\n",
        "y = train_df['Category']\n",
        "\n",
        "# Create word embeddings for text data\n",
        "X_vectors = []\n",
        "for text in X:\n",
        "    # Split the text into words\n",
        "    words = text.split()\n",
        "    vectors = [glove_model[word] if word in glove_model else np.zeros(50) for word in words]\n",
        "    if vectors:\n",
        "        avg_vector = np.mean(vectors, axis=0)\n",
        "    else:\n",
        "        avg_vector = np.zeros(50)  # GloVe vectors are 50-dimensional\n",
        "    X_vectors.append(avg_vector)\n",
        "X_vectors = np.array(X_vectors)"
      ],
      "metadata": {
        "id": "EYCQ-3wUsU_V"
      },
      "execution_count": null,
      "outputs": []
    },
    {
      "cell_type": "code",
      "source": [
        "label_encoder = LabelEncoder()\n",
        "y_train_encoded = label_encoder.fit_transform(y_train)\n",
        "perform_k_fold_CV(X_vectors, y_train_encoded,\"glove2word2vec\")"
      ],
      "metadata": {
        "colab": {
          "base_uri": "https://localhost:8080/"
        },
        "id": "Fiy-qBFmmEej",
        "outputId": "1cff7045-c4b3-4a30-e6b8-c307ca6107bc"
      },
      "execution_count": null,
      "outputs": [
        {
          "output_type": "stream",
          "name": "stdout",
          "text": [
            "Train accuraccy: [100.0, 100.0, 100.0, 100.0, 100.0]\n",
            "Evaluation accuraccy: [92.95774647887323, 93.89671361502347, 95.77464788732394, 94.81132075471697, 96.22641509433963]\n"
          ]
        }
      ]
    },
    {
      "cell_type": "markdown",
      "source": [
        "#Display Results"
      ],
      "metadata": {
        "id": "7J3pttv9m6Op"
      }
    },
    {
      "cell_type": "code",
      "source": [
        "results_dataframe = pd.DataFrame({\n",
        "        \"Feature Method\": features_list,\n",
        "        \"Train Accuracy\": train_accuracy_scores,\n",
        "        \"Test Accuracy\": test_accuracy_scores,\n",
        "        \"Train Standard Deviation\": train_accuracy_stddev,\n",
        "        \"Test Standard Deviation\":test_accuracy_stddev\n",
        "    })\n",
        "# styling the results\n",
        "sns.set_style(\"whitegrid\")\n",
        "display(results_dataframe)"
      ],
      "metadata": {
        "colab": {
          "base_uri": "https://localhost:8080/",
          "height": 143
        },
        "id": "HgIm-RQfIbIj",
        "outputId": "b8ed519b-e8b0-40a0-e39d-fee2920021bc"
      },
      "execution_count": null,
      "outputs": [
        {
          "output_type": "display_data",
          "data": {
            "text/plain": [
              "     Feature Method  Train Accuracy  Test Accuracy  Train Standard Deviation  \\\n",
              "0  Count Vectorizer           100.0      96.707857                       0.0   \n",
              "1            TF-IDF           100.0      97.553813                       0.0   \n",
              "2    glove2word2vec           100.0      94.733369                       0.0   \n",
              "\n",
              "   Test Standard Deviation  \n",
              "0                 0.984402  \n",
              "1                 0.961012  \n",
              "2                 1.197694  "
            ],
            "text/html": [
              "\n",
              "  <div id=\"df-9db88e5b-4016-4cd4-b203-7f683e6cd669\" class=\"colab-df-container\">\n",
              "    <div>\n",
              "<style scoped>\n",
              "    .dataframe tbody tr th:only-of-type {\n",
              "        vertical-align: middle;\n",
              "    }\n",
              "\n",
              "    .dataframe tbody tr th {\n",
              "        vertical-align: top;\n",
              "    }\n",
              "\n",
              "    .dataframe thead th {\n",
              "        text-align: right;\n",
              "    }\n",
              "</style>\n",
              "<table border=\"1\" class=\"dataframe\">\n",
              "  <thead>\n",
              "    <tr style=\"text-align: right;\">\n",
              "      <th></th>\n",
              "      <th>Feature Method</th>\n",
              "      <th>Train Accuracy</th>\n",
              "      <th>Test Accuracy</th>\n",
              "      <th>Train Standard Deviation</th>\n",
              "      <th>Test Standard Deviation</th>\n",
              "    </tr>\n",
              "  </thead>\n",
              "  <tbody>\n",
              "    <tr>\n",
              "      <th>0</th>\n",
              "      <td>Count Vectorizer</td>\n",
              "      <td>100.0</td>\n",
              "      <td>96.707857</td>\n",
              "      <td>0.0</td>\n",
              "      <td>0.984402</td>\n",
              "    </tr>\n",
              "    <tr>\n",
              "      <th>1</th>\n",
              "      <td>TF-IDF</td>\n",
              "      <td>100.0</td>\n",
              "      <td>97.553813</td>\n",
              "      <td>0.0</td>\n",
              "      <td>0.961012</td>\n",
              "    </tr>\n",
              "    <tr>\n",
              "      <th>2</th>\n",
              "      <td>glove2word2vec</td>\n",
              "      <td>100.0</td>\n",
              "      <td>94.733369</td>\n",
              "      <td>0.0</td>\n",
              "      <td>1.197694</td>\n",
              "    </tr>\n",
              "  </tbody>\n",
              "</table>\n",
              "</div>\n",
              "    <div class=\"colab-df-buttons\">\n",
              "\n",
              "  <div class=\"colab-df-container\">\n",
              "    <button class=\"colab-df-convert\" onclick=\"convertToInteractive('df-9db88e5b-4016-4cd4-b203-7f683e6cd669')\"\n",
              "            title=\"Convert this dataframe to an interactive table.\"\n",
              "            style=\"display:none;\">\n",
              "\n",
              "  <svg xmlns=\"http://www.w3.org/2000/svg\" height=\"24px\" viewBox=\"0 -960 960 960\">\n",
              "    <path d=\"M120-120v-720h720v720H120Zm60-500h600v-160H180v160Zm220 220h160v-160H400v160Zm0 220h160v-160H400v160ZM180-400h160v-160H180v160Zm440 0h160v-160H620v160ZM180-180h160v-160H180v160Zm440 0h160v-160H620v160Z\"/>\n",
              "  </svg>\n",
              "    </button>\n",
              "\n",
              "  <style>\n",
              "    .colab-df-container {\n",
              "      display:flex;\n",
              "      gap: 12px;\n",
              "    }\n",
              "\n",
              "    .colab-df-convert {\n",
              "      background-color: #E8F0FE;\n",
              "      border: none;\n",
              "      border-radius: 50%;\n",
              "      cursor: pointer;\n",
              "      display: none;\n",
              "      fill: #1967D2;\n",
              "      height: 32px;\n",
              "      padding: 0 0 0 0;\n",
              "      width: 32px;\n",
              "    }\n",
              "\n",
              "    .colab-df-convert:hover {\n",
              "      background-color: #E2EBFA;\n",
              "      box-shadow: 0px 1px 2px rgba(60, 64, 67, 0.3), 0px 1px 3px 1px rgba(60, 64, 67, 0.15);\n",
              "      fill: #174EA6;\n",
              "    }\n",
              "\n",
              "    .colab-df-buttons div {\n",
              "      margin-bottom: 4px;\n",
              "    }\n",
              "\n",
              "    [theme=dark] .colab-df-convert {\n",
              "      background-color: #3B4455;\n",
              "      fill: #D2E3FC;\n",
              "    }\n",
              "\n",
              "    [theme=dark] .colab-df-convert:hover {\n",
              "      background-color: #434B5C;\n",
              "      box-shadow: 0px 1px 3px 1px rgba(0, 0, 0, 0.15);\n",
              "      filter: drop-shadow(0px 1px 2px rgba(0, 0, 0, 0.3));\n",
              "      fill: #FFFFFF;\n",
              "    }\n",
              "  </style>\n",
              "\n",
              "    <script>\n",
              "      const buttonEl =\n",
              "        document.querySelector('#df-9db88e5b-4016-4cd4-b203-7f683e6cd669 button.colab-df-convert');\n",
              "      buttonEl.style.display =\n",
              "        google.colab.kernel.accessAllowed ? 'block' : 'none';\n",
              "\n",
              "      async function convertToInteractive(key) {\n",
              "        const element = document.querySelector('#df-9db88e5b-4016-4cd4-b203-7f683e6cd669');\n",
              "        const dataTable =\n",
              "          await google.colab.kernel.invokeFunction('convertToInteractive',\n",
              "                                                    [key], {});\n",
              "        if (!dataTable) return;\n",
              "\n",
              "        const docLinkHtml = 'Like what you see? Visit the ' +\n",
              "          '<a target=\"_blank\" href=https://colab.research.google.com/notebooks/data_table.ipynb>data table notebook</a>'\n",
              "          + ' to learn more about interactive tables.';\n",
              "        element.innerHTML = '';\n",
              "        dataTable['output_type'] = 'display_data';\n",
              "        await google.colab.output.renderOutput(dataTable, element);\n",
              "        const docLink = document.createElement('div');\n",
              "        docLink.innerHTML = docLinkHtml;\n",
              "        element.appendChild(docLink);\n",
              "      }\n",
              "    </script>\n",
              "  </div>\n",
              "\n",
              "\n",
              "<div id=\"df-f3a8610e-7a87-4493-a44f-20ac68f3fe47\">\n",
              "  <button class=\"colab-df-quickchart\" onclick=\"quickchart('df-f3a8610e-7a87-4493-a44f-20ac68f3fe47')\"\n",
              "            title=\"Suggest charts.\"\n",
              "            style=\"display:none;\">\n",
              "\n",
              "<svg xmlns=\"http://www.w3.org/2000/svg\" height=\"24px\"viewBox=\"0 0 24 24\"\n",
              "     width=\"24px\">\n",
              "    <g>\n",
              "        <path d=\"M19 3H5c-1.1 0-2 .9-2 2v14c0 1.1.9 2 2 2h14c1.1 0 2-.9 2-2V5c0-1.1-.9-2-2-2zM9 17H7v-7h2v7zm4 0h-2V7h2v10zm4 0h-2v-4h2v4z\"/>\n",
              "    </g>\n",
              "</svg>\n",
              "  </button>\n",
              "\n",
              "<style>\n",
              "  .colab-df-quickchart {\n",
              "      --bg-color: #E8F0FE;\n",
              "      --fill-color: #1967D2;\n",
              "      --hover-bg-color: #E2EBFA;\n",
              "      --hover-fill-color: #174EA6;\n",
              "      --disabled-fill-color: #AAA;\n",
              "      --disabled-bg-color: #DDD;\n",
              "  }\n",
              "\n",
              "  [theme=dark] .colab-df-quickchart {\n",
              "      --bg-color: #3B4455;\n",
              "      --fill-color: #D2E3FC;\n",
              "      --hover-bg-color: #434B5C;\n",
              "      --hover-fill-color: #FFFFFF;\n",
              "      --disabled-bg-color: #3B4455;\n",
              "      --disabled-fill-color: #666;\n",
              "  }\n",
              "\n",
              "  .colab-df-quickchart {\n",
              "    background-color: var(--bg-color);\n",
              "    border: none;\n",
              "    border-radius: 50%;\n",
              "    cursor: pointer;\n",
              "    display: none;\n",
              "    fill: var(--fill-color);\n",
              "    height: 32px;\n",
              "    padding: 0;\n",
              "    width: 32px;\n",
              "  }\n",
              "\n",
              "  .colab-df-quickchart:hover {\n",
              "    background-color: var(--hover-bg-color);\n",
              "    box-shadow: 0 1px 2px rgba(60, 64, 67, 0.3), 0 1px 3px 1px rgba(60, 64, 67, 0.15);\n",
              "    fill: var(--button-hover-fill-color);\n",
              "  }\n",
              "\n",
              "  .colab-df-quickchart-complete:disabled,\n",
              "  .colab-df-quickchart-complete:disabled:hover {\n",
              "    background-color: var(--disabled-bg-color);\n",
              "    fill: var(--disabled-fill-color);\n",
              "    box-shadow: none;\n",
              "  }\n",
              "\n",
              "  .colab-df-spinner {\n",
              "    border: 2px solid var(--fill-color);\n",
              "    border-color: transparent;\n",
              "    border-bottom-color: var(--fill-color);\n",
              "    animation:\n",
              "      spin 1s steps(1) infinite;\n",
              "  }\n",
              "\n",
              "  @keyframes spin {\n",
              "    0% {\n",
              "      border-color: transparent;\n",
              "      border-bottom-color: var(--fill-color);\n",
              "      border-left-color: var(--fill-color);\n",
              "    }\n",
              "    20% {\n",
              "      border-color: transparent;\n",
              "      border-left-color: var(--fill-color);\n",
              "      border-top-color: var(--fill-color);\n",
              "    }\n",
              "    30% {\n",
              "      border-color: transparent;\n",
              "      border-left-color: var(--fill-color);\n",
              "      border-top-color: var(--fill-color);\n",
              "      border-right-color: var(--fill-color);\n",
              "    }\n",
              "    40% {\n",
              "      border-color: transparent;\n",
              "      border-right-color: var(--fill-color);\n",
              "      border-top-color: var(--fill-color);\n",
              "    }\n",
              "    60% {\n",
              "      border-color: transparent;\n",
              "      border-right-color: var(--fill-color);\n",
              "    }\n",
              "    80% {\n",
              "      border-color: transparent;\n",
              "      border-right-color: var(--fill-color);\n",
              "      border-bottom-color: var(--fill-color);\n",
              "    }\n",
              "    90% {\n",
              "      border-color: transparent;\n",
              "      border-bottom-color: var(--fill-color);\n",
              "    }\n",
              "  }\n",
              "</style>\n",
              "\n",
              "  <script>\n",
              "    async function quickchart(key) {\n",
              "      const quickchartButtonEl =\n",
              "        document.querySelector('#' + key + ' button');\n",
              "      quickchartButtonEl.disabled = true;  // To prevent multiple clicks.\n",
              "      quickchartButtonEl.classList.add('colab-df-spinner');\n",
              "      try {\n",
              "        const charts = await google.colab.kernel.invokeFunction(\n",
              "            'suggestCharts', [key], {});\n",
              "      } catch (error) {\n",
              "        console.error('Error during call to suggestCharts:', error);\n",
              "      }\n",
              "      quickchartButtonEl.classList.remove('colab-df-spinner');\n",
              "      quickchartButtonEl.classList.add('colab-df-quickchart-complete');\n",
              "    }\n",
              "    (() => {\n",
              "      let quickchartButtonEl =\n",
              "        document.querySelector('#df-f3a8610e-7a87-4493-a44f-20ac68f3fe47 button');\n",
              "      quickchartButtonEl.style.display =\n",
              "        google.colab.kernel.accessAllowed ? 'block' : 'none';\n",
              "    })();\n",
              "  </script>\n",
              "</div>\n",
              "    </div>\n",
              "  </div>\n"
            ]
          },
          "metadata": {}
        }
      ]
    },
    {
      "cell_type": "code",
      "source": [
        "bar_width = 0.35\n",
        "index = np.arange(len(features_list))\n",
        "\n",
        "plt.figure(figsize=(8, 6))\n",
        "plt.bar(index, train_accuracy_scores, label='Training Accuracy', alpha=0.7, color='darkblue', width=bar_width)\n",
        "plt.bar(index + bar_width, test_accuracy_scores, label='Validation Accuracy', alpha=0.7, color='darkorange', width=bar_width)\n",
        "plt.xlabel('Feature Values')\n",
        "plt.ylabel('Accuracy')\n",
        "plt.title('Training Vs Validation Accuracy across different Feature methods')\n",
        "plt.xticks(index + bar_width / 2, features_list)\n",
        "plt.legend(loc='lower center')\n",
        "plt.show()\n"
      ],
      "metadata": {
        "colab": {
          "base_uri": "https://localhost:8080/",
          "height": 564
        },
        "id": "AGw244VS9dfT",
        "outputId": "85fd2e23-0a57-4153-b9b1-f2144d5389a6"
      },
      "execution_count": null,
      "outputs": [
        {
          "output_type": "display_data",
          "data": {
            "text/plain": [
              "<Figure size 800x600 with 1 Axes>"
            ],
            "image/png": "[encoded data removed]"
          },
          "metadata": {}
        }
      ]
    },
    {
      "cell_type": "markdown",
      "source": [
        "# PART 2A"
      ],
      "metadata": {
        "id": "Qrn5Rg_s5ZZV"
      }
    },
    {
      "cell_type": "markdown",
      "source": [
        "The best feature engineering method from the modeling part is TF-IDF"
      ],
      "metadata": {
        "id": "GmcJCU9ILu8J"
      }
    },
    {
      "cell_type": "code",
      "source": [
        "def train_model_with_learning_rates(X_train, y_train,learning_rates):\n",
        "\n",
        "    avg_train_accuracies = []\n",
        "    std_train_accuracies = []\n",
        "    avg_val_accuracies = []\n",
        "    std_val_accuracies = []\n",
        "\n",
        "    for lr in learning_rates:\n",
        "        # Split the data using 5-fold cross-validation\n",
        "        kf = KFold(n_splits=5)\n",
        "        train_accuracies = []\n",
        "        val_accuracies = []\n",
        "\n",
        "        for ind1, ind2 in kf.split(np.array(X_train)):\n",
        "            #initialize the model for each fold\n",
        "            model = NeuralNetwork(X_train.shape[1], 128, 128, len(np.unique(y_train)))\n",
        "            loss_fn = nn.CrossEntropyLoss()\n",
        "            optimizer = optim.Adam(model.parameters(), lr)\n",
        "            X_train_split, X_val_split = np.array(X_train)[ind1], np.array(X_train)[ind2]\n",
        "            y_train_split, y_val_split = np.array(y_train)[ind1], np.array(y_train)[ind2]\n",
        "\n",
        "            # Convert data to DataLoader format\n",
        "            train_loader,val_loader = data_format(X_train_split,y_train_split,X_val_split,y_val_split)\n",
        "\n",
        "            # Train the model\n",
        "            train_model(model,optimizer,train_loader,loss_fn)\n",
        "\n",
        "            # Evaluate on training and validation data\n",
        "            train_accuracies.append(evaluate(model, train_loader))\n",
        "            val_accuracies.append(evaluate(model, val_loader))\n",
        "\n",
        "        avg_train_accuracies.append(np.mean(train_accuracies))\n",
        "        std_train_accuracies.append(np.std(train_accuracies))\n",
        "        avg_val_accuracies.append(np.mean(val_accuracies))\n",
        "        std_val_accuracies.append(np.std(val_accuracies))\n",
        "\n",
        "    results_dataframe = pd.DataFrame({\n",
        "        \"Learning Rate\": learning_rates,\n",
        "        \"Avg Train Accuracy\": avg_train_accuracies,\n",
        "        \"Std Train Accuracy\": std_train_accuracies,\n",
        "        \"Avg Val Accuracy\": avg_val_accuracies,\n",
        "        \"Std Val Accuracy\": std_val_accuracies,\n",
        "    })\n",
        "    sns.set_style(\"whitegrid\")\n",
        "    display(results_dataframe)\n",
        "    return avg_train_accuracies,avg_val_accuracies"
      ],
      "metadata": {
        "id": "aESPafq7L2c0"
      },
      "execution_count": null,
      "outputs": []
    },
    {
      "cell_type": "code",
      "source": [
        "X_train = train_df['cleaned_text'].copy()\n",
        "y_train = train_df['Category'].copy()"
      ],
      "metadata": {
        "id": "-WcFNtCXpL36"
      },
      "execution_count": null,
      "outputs": []
    },
    {
      "cell_type": "code",
      "source": [
        "learning_rates =  [0.0001, 0.0003, 0.001, 0.003, 0.01, 0.03, 0.1]\n",
        "tfidf_vectorizer = TfidfVectorizer()\n",
        "X_train_tfidf = tfidf_vectorizer.fit_transform(X_train)\n",
        "X_train_tfidf = X_train_tfidf.toarray()\n",
        "\n",
        "label_encoder = LabelEncoder()\n",
        "y_train_encoded = label_encoder.fit_transform(y_train)\n",
        "train_accuracies,val_accuracies = train_model_with_learning_rates(X_train_tfidf, y_train_encoded,learning_rates)"
      ],
      "metadata": {
        "colab": {
          "base_uri": "https://localhost:8080/",
          "height": 269
        },
        "id": "STKVM2ArSO96",
        "outputId": "c60259c6-f61e-49db-8187-18378a426a67"
      },
      "execution_count": null,
      "outputs": [
        {
          "output_type": "display_data",
          "data": {
            "text/plain": [
              "   Learning Rate  Avg Train Accuracy  Std Train Accuracy  Avg Val Accuracy  \\\n",
              "0         0.0001               100.0                 0.0         97.554256   \n",
              "1         0.0003               100.0                 0.0         97.272123   \n",
              "2         0.0010               100.0                 0.0         97.648153   \n",
              "3         0.0030               100.0                 0.0         97.272123   \n",
              "4         0.0100               100.0                 0.0         95.394189   \n",
              "5         0.0300               100.0                 0.0         95.484100   \n",
              "6         0.1000               100.0                 0.0         94.732040   \n",
              "\n",
              "   Std Val Accuracy  \n",
              "0          0.862048  \n",
              "1          1.002811  \n",
              "2          0.986504  \n",
              "3          0.751532  \n",
              "4          2.773315  \n",
              "5          1.100002  \n",
              "6          0.750605  "
            ],
            "text/html": [
              "\n",
              "  <div id=\"df-28b4d0f6-8b40-4347-bcae-99738f29120b\" class=\"colab-df-container\">\n",
              "    <div>\n",
              "<style scoped>\n",
              "    .dataframe tbody tr th:only-of-type {\n",
              "        vertical-align: middle;\n",
              "    }\n",
              "\n",
              "    .dataframe tbody tr th {\n",
              "        vertical-align: top;\n",
              "    }\n",
              "\n",
              "    .dataframe thead th {\n",
              "        text-align: right;\n",
              "    }\n",
              "</style>\n",
              "<table border=\"1\" class=\"dataframe\">\n",
              "  <thead>\n",
              "    <tr style=\"text-align: right;\">\n",
              "      <th></th>\n",
              "      <th>Learning Rate</th>\n",
              "      <th>Avg Train Accuracy</th>\n",
              "      <th>Std Train Accuracy</th>\n",
              "      <th>Avg Val Accuracy</th>\n",
              "      <th>Std Val Accuracy</th>\n",
              "    </tr>\n",
              "  </thead>\n",
              "  <tbody>\n",
              "    <tr>\n",
              "      <th>0</th>\n",
              "      <td>0.0001</td>\n",
              "      <td>100.0</td>\n",
              "      <td>0.0</td>\n",
              "      <td>97.554256</td>\n",
              "      <td>0.862048</td>\n",
              "    </tr>\n",
              "    <tr>\n",
              "      <th>1</th>\n",
              "      <td>0.0003</td>\n",
              "      <td>100.0</td>\n",
              "      <td>0.0</td>\n",
              "      <td>97.272123</td>\n",
              "      <td>1.002811</td>\n",
              "    </tr>\n",
              "    <tr>\n",
              "      <th>2</th>\n",
              "      <td>0.0010</td>\n",
              "      <td>100.0</td>\n",
              "      <td>0.0</td>\n",
              "      <td>97.648153</td>\n",
              "      <td>0.986504</td>\n",
              "    </tr>\n",
              "    <tr>\n",
              "      <th>3</th>\n",
              "      <td>0.0030</td>\n",
              "      <td>100.0</td>\n",
              "      <td>0.0</td>\n",
              "      <td>97.272123</td>\n",
              "      <td>0.751532</td>\n",
              "    </tr>\n",
              "    <tr>\n",
              "      <th>4</th>\n",
              "      <td>0.0100</td>\n",
              "      <td>100.0</td>\n",
              "      <td>0.0</td>\n",
              "      <td>95.394189</td>\n",
              "      <td>2.773315</td>\n",
              "    </tr>\n",
              "    <tr>\n",
              "      <th>5</th>\n",
              "      <td>0.0300</td>\n",
              "      <td>100.0</td>\n",
              "      <td>0.0</td>\n",
              "      <td>95.484100</td>\n",
              "      <td>1.100002</td>\n",
              "    </tr>\n",
              "    <tr>\n",
              "      <th>6</th>\n",
              "      <td>0.1000</td>\n",
              "      <td>100.0</td>\n",
              "      <td>0.0</td>\n",
              "      <td>94.732040</td>\n",
              "      <td>0.750605</td>\n",
              "    </tr>\n",
              "  </tbody>\n",
              "</table>\n",
              "</div>\n",
              "    <div class=\"colab-df-buttons\">\n",
              "\n",
              "  <div class=\"colab-df-container\">\n",
              "    <button class=\"colab-df-convert\" onclick=\"convertToInteractive('df-28b4d0f6-8b40-4347-bcae-99738f29120b')\"\n",
              "            title=\"Convert this dataframe to an interactive table.\"\n",
              "            style=\"display:none;\">\n",
              "\n",
              "  <svg xmlns=\"http://www.w3.org/2000/svg\" height=\"24px\" viewBox=\"0 -960 960 960\">\n",
              "    <path d=\"M120-120v-720h720v720H120Zm60-500h600v-160H180v160Zm220 220h160v-160H400v160Zm0 220h160v-160H400v160ZM180-400h160v-160H180v160Zm440 0h160v-160H620v160ZM180-180h160v-160H180v160Zm440 0h160v-160H620v160Z\"/>\n",
              "  </svg>\n",
              "    </button>\n",
              "\n",
              "  <style>\n",
              "    .colab-df-container {\n",
              "      display:flex;\n",
              "      gap: 12px;\n",
              "    }\n",
              "\n",
              "    .colab-df-convert {\n",
              "      background-color: #E8F0FE;\n",
              "      border: none;\n",
              "      border-radius: 50%;\n",
              "      cursor: pointer;\n",
              "      display: none;\n",
              "      fill: #1967D2;\n",
              "      height: 32px;\n",
              "      padding: 0 0 0 0;\n",
              "      width: 32px;\n",
              "    }\n",
              "\n",
              "    .colab-df-convert:hover {\n",
              "      background-color: #E2EBFA;\n",
              "      box-shadow: 0px 1px 2px rgba(60, 64, 67, 0.3), 0px 1px 3px 1px rgba(60, 64, 67, 0.15);\n",
              "      fill: #174EA6;\n",
              "    }\n",
              "\n",
              "    .colab-df-buttons div {\n",
              "      margin-bottom: 4px;\n",
              "    }\n",
              "\n",
              "    [theme=dark] .colab-df-convert {\n",
              "      background-color: #3B4455;\n",
              "      fill: #D2E3FC;\n",
              "    }\n",
              "\n",
              "    [theme=dark] .colab-df-convert:hover {\n",
              "      background-color: #434B5C;\n",
              "      box-shadow: 0px 1px 3px 1px rgba(0, 0, 0, 0.15);\n",
              "      filter: drop-shadow(0px 1px 2px rgba(0, 0, 0, 0.3));\n",
              "      fill: #FFFFFF;\n",
              "    }\n",
              "  </style>\n",
              "\n",
              "    <script>\n",
              "      const buttonEl =\n",
              "        document.querySelector('#df-28b4d0f6-8b40-4347-bcae-99738f29120b button.colab-df-convert');\n",
              "      buttonEl.style.display =\n",
              "        google.colab.kernel.accessAllowed ? 'block' : 'none';\n",
              "\n",
              "      async function convertToInteractive(key) {\n",
              "        const element = document.querySelector('#df-28b4d0f6-8b40-4347-bcae-99738f29120b');\n",
              "        const dataTable =\n",
              "          await google.colab.kernel.invokeFunction('convertToInteractive',\n",
              "                                                    [key], {});\n",
              "        if (!dataTable) return;\n",
              "\n",
              "        const docLinkHtml = 'Like what you see? Visit the ' +\n",
              "          '<a target=\"_blank\" href=https://colab.research.google.com/notebooks/data_table.ipynb>data table notebook</a>'\n",
              "          + ' to learn more about interactive tables.';\n",
              "        element.innerHTML = '';\n",
              "        dataTable['output_type'] = 'display_data';\n",
              "        await google.colab.output.renderOutput(dataTable, element);\n",
              "        const docLink = document.createElement('div');\n",
              "        docLink.innerHTML = docLinkHtml;\n",
              "        element.appendChild(docLink);\n",
              "      }\n",
              "    </script>\n",
              "  </div>\n",
              "\n",
              "\n",
              "<div id=\"df-a4b00534-6402-4cdd-a9a0-dc3fb97aa065\">\n",
              "  <button class=\"colab-df-quickchart\" onclick=\"quickchart('df-a4b00534-6402-4cdd-a9a0-dc3fb97aa065')\"\n",
              "            title=\"Suggest charts.\"\n",
              "            style=\"display:none;\">\n",
              "\n",
              "<svg xmlns=\"http://www.w3.org/2000/svg\" height=\"24px\"viewBox=\"0 0 24 24\"\n",
              "     width=\"24px\">\n",
              "    <g>\n",
              "        <path d=\"M19 3H5c-1.1 0-2 .9-2 2v14c0 1.1.9 2 2 2h14c1.1 0 2-.9 2-2V5c0-1.1-.9-2-2-2zM9 17H7v-7h2v7zm4 0h-2V7h2v10zm4 0h-2v-4h2v4z\"/>\n",
              "    </g>\n",
              "</svg>\n",
              "  </button>\n",
              "\n",
              "<style>\n",
              "  .colab-df-quickchart {\n",
              "      --bg-color: #E8F0FE;\n",
              "      --fill-color: #1967D2;\n",
              "      --hover-bg-color: #E2EBFA;\n",
              "      --hover-fill-color: #174EA6;\n",
              "      --disabled-fill-color: #AAA;\n",
              "      --disabled-bg-color: #DDD;\n",
              "  }\n",
              "\n",
              "  [theme=dark] .colab-df-quickchart {\n",
              "      --bg-color: #3B4455;\n",
              "      --fill-color: #D2E3FC;\n",
              "      --hover-bg-color: #434B5C;\n",
              "      --hover-fill-color: #FFFFFF;\n",
              "      --disabled-bg-color: #3B4455;\n",
              "      --disabled-fill-color: #666;\n",
              "  }\n",
              "\n",
              "  .colab-df-quickchart {\n",
              "    background-color: var(--bg-color);\n",
              "    border: none;\n",
              "    border-radius: 50%;\n",
              "    cursor: pointer;\n",
              "    display: none;\n",
              "    fill: var(--fill-color);\n",
              "    height: 32px;\n",
              "    padding: 0;\n",
              "    width: 32px;\n",
              "  }\n",
              "\n",
              "  .colab-df-quickchart:hover {\n",
              "    background-color: var(--hover-bg-color);\n",
              "    box-shadow: 0 1px 2px rgba(60, 64, 67, 0.3), 0 1px 3px 1px rgba(60, 64, 67, 0.15);\n",
              "    fill: var(--button-hover-fill-color);\n",
              "  }\n",
              "\n",
              "  .colab-df-quickchart-complete:disabled,\n",
              "  .colab-df-quickchart-complete:disabled:hover {\n",
              "    background-color: var(--disabled-bg-color);\n",
              "    fill: var(--disabled-fill-color);\n",
              "    box-shadow: none;\n",
              "  }\n",
              "\n",
              "  .colab-df-spinner {\n",
              "    border: 2px solid var(--fill-color);\n",
              "    border-color: transparent;\n",
              "    border-bottom-color: var(--fill-color);\n",
              "    animation:\n",
              "      spin 1s steps(1) infinite;\n",
              "  }\n",
              "\n",
              "  @keyframes spin {\n",
              "    0% {\n",
              "      border-color: transparent;\n",
              "      border-bottom-color: var(--fill-color);\n",
              "      border-left-color: var(--fill-color);\n",
              "    }\n",
              "    20% {\n",
              "      border-color: transparent;\n",
              "      border-left-color: var(--fill-color);\n",
              "      border-top-color: var(--fill-color);\n",
              "    }\n",
              "    30% {\n",
              "      border-color: transparent;\n",
              "      border-left-color: var(--fill-color);\n",
              "      border-top-color: var(--fill-color);\n",
              "      border-right-color: var(--fill-color);\n",
              "    }\n",
              "    40% {\n",
              "      border-color: transparent;\n",
              "      border-right-color: var(--fill-color);\n",
              "      border-top-color: var(--fill-color);\n",
              "    }\n",
              "    60% {\n",
              "      border-color: transparent;\n",
              "      border-right-color: var(--fill-color);\n",
              "    }\n",
              "    80% {\n",
              "      border-color: transparent;\n",
              "      border-right-color: var(--fill-color);\n",
              "      border-bottom-color: var(--fill-color);\n",
              "    }\n",
              "    90% {\n",
              "      border-color: transparent;\n",
              "      border-bottom-color: var(--fill-color);\n",
              "    }\n",
              "  }\n",
              "</style>\n",
              "\n",
              "  <script>\n",
              "    async function quickchart(key) {\n",
              "      const quickchartButtonEl =\n",
              "        document.querySelector('#' + key + ' button');\n",
              "      quickchartButtonEl.disabled = true;  // To prevent multiple clicks.\n",
              "      quickchartButtonEl.classList.add('colab-df-spinner');\n",
              "      try {\n",
              "        const charts = await google.colab.kernel.invokeFunction(\n",
              "            'suggestCharts', [key], {});\n",
              "      } catch (error) {\n",
              "        console.error('Error during call to suggestCharts:', error);\n",
              "      }\n",
              "      quickchartButtonEl.classList.remove('colab-df-spinner');\n",
              "      quickchartButtonEl.classList.add('colab-df-quickchart-complete');\n",
              "    }\n",
              "    (() => {\n",
              "      let quickchartButtonEl =\n",
              "        document.querySelector('#df-a4b00534-6402-4cdd-a9a0-dc3fb97aa065 button');\n",
              "      quickchartButtonEl.style.display =\n",
              "        google.colab.kernel.accessAllowed ? 'block' : 'none';\n",
              "    })();\n",
              "  </script>\n",
              "</div>\n",
              "    </div>\n",
              "  </div>\n"
            ]
          },
          "metadata": {}
        }
      ]
    },
    {
      "cell_type": "code",
      "source": [
        "#Plotting the training and validation accuracies w.r.t min samples leaf\n",
        "print(\"\\n\")\n",
        "plt.plot(learning_rates, train_accuracies, marker='.', label=\"Training accuracy\")\n",
        "plt.plot(learning_rates, val_accuracies, marker='.', label=\"Validation accuracy\")\n",
        "plt.xlabel('Leaning rates of NN model')\n",
        "plt.ylabel('Accuracy')\n",
        "plt.legend()"
      ],
      "metadata": {
        "colab": {
          "base_uri": "https://localhost:8080/",
          "height": 501
        },
        "id": "s-j-PLikWIR9",
        "outputId": "249f1499-8e70-4b40-e270-ecf797823605"
      },
      "execution_count": null,
      "outputs": [
        {
          "output_type": "stream",
          "name": "stdout",
          "text": [
            "\n",
            "\n"
          ]
        },
        {
          "output_type": "execute_result",
          "data": {
            "text/plain": [
              "<matplotlib.legend.Legend at 0x7cb30bbd1510>"
            ]
          },
          "metadata": {},
          "execution_count": 99
        },
        {
          "output_type": "display_data",
          "data": {
            "text/plain": [
              "<Figure size 640x480 with 1 Axes>"
            ],
            "image/png": "[encoded data removed]"
          },
          "metadata": {}
        }
      ]
    },
    {
      "cell_type": "code",
      "source": [],
      "metadata": {
        "id": "u6VxCuCpYz8n"
      },
      "execution_count": null,
      "outputs": []
    },
    {
      "cell_type": "markdown",
      "source": [
        "# PART 2B"
      ],
      "metadata": {
        "id": "cWw2Ob5ncfPt"
      }
    },
    {
      "cell_type": "code",
      "source": [
        "def train_model_with_optimizers(X_train, y_train, optimizers):\n",
        "    avg_train_accuracies = []\n",
        "    std_train_accuracies = []\n",
        "    avg_val_accuracies = []\n",
        "    std_val_accuracies = []\n",
        "\n",
        "    for optimizer_name in optimizers:\n",
        "        # Split the data using 5-fold cross-validation\n",
        "        kf = KFold(n_splits=5)\n",
        "        train_accuracies = []\n",
        "        val_accuracies = []\n",
        "        leaning_rate = 0.001\n",
        "\n",
        "        for ind1, ind2 in kf.split(np.array(X_train)):\n",
        "            #initialize the model for each fold\n",
        "            model = NeuralNetwork(X_train.shape[1], 128, 128, len(np.unique(y_train)))\n",
        "            loss_fn = nn.CrossEntropyLoss()\n",
        "            optimizer_map = {\n",
        "                    \"SGD\": optim.SGD,\n",
        "                    \"Adam\": optim.Adam,\n",
        "                    \"RMSprop\": optim.RMSprop\n",
        "            }\n",
        "\n",
        "            if optimizer_name in optimizer_map:\n",
        "                optimizer = optimizer_map[optimizer_name](model.parameters(), lr=leaning_rate)\n",
        "            else:\n",
        "                print(f\"Not a Valid optimizer: {optimizer_name}\")\n",
        "\n",
        "            X_train_split, X_val_split = np.array(X_train)[ind1], np.array(X_train)[ind2]\n",
        "            y_train_split, y_val_split = np.array(y_train)[ind1], np.array(y_train)[ind2]\n",
        "\n",
        "            # Convert data to DataLoader format\n",
        "            train_loader,val_loader = data_format(X_train_split,y_train_split,X_val_split,y_val_split)\n",
        "\n",
        "            # Train the model\n",
        "            train_model(model,optimizer,train_loader,loss_fn)\n",
        "\n",
        "            # Evaluate on training and validation data\n",
        "            train_accuracies.append(evaluate(model, train_loader))\n",
        "            val_accuracies.append(evaluate(model, val_loader))\n",
        "\n",
        "        avg_train_accuracies.append(np.mean(train_accuracies))\n",
        "        std_train_accuracies.append(np.std(train_accuracies))\n",
        "        avg_val_accuracies.append(np.mean(val_accuracies))\n",
        "        std_val_accuracies.append(np.std(val_accuracies))\n",
        "\n",
        "    results_dataframe = pd.DataFrame({\n",
        "        \"Optimizers\": optimizers,\n",
        "        \"Avg Train Accuracy\": avg_train_accuracies,\n",
        "        \"Std Train Accuracy\": std_train_accuracies,\n",
        "        \"Avg Val Accuracy\": avg_val_accuracies,\n",
        "        \"Std Val Accuracy\": std_val_accuracies,\n",
        "    })\n",
        "    sns.set_style(\"whitegrid\")\n",
        "    display(results_dataframe)\n",
        "    return avg_train_accuracies,avg_val_accuracies"
      ],
      "metadata": {
        "id": "IIx7TwU1Yz-u"
      },
      "execution_count": null,
      "outputs": []
    },
    {
      "cell_type": "code",
      "source": [
        "X_train = train_df['cleaned_text'].copy()\n",
        "y_train = train_df['Category'].copy()"
      ],
      "metadata": {
        "id": "pVyeSfK7oQd1"
      },
      "execution_count": null,
      "outputs": []
    },
    {
      "cell_type": "code",
      "source": [
        "optimizers =  [\"SGD\", \"Adam\", \"RMSprop\"]\n",
        "\n",
        "tfidf_vectorizer = TfidfVectorizer()\n",
        "X_train_tfidf = tfidf_vectorizer.fit_transform(X_train)\n",
        "X_train_tfidf = X_train_tfidf.toarray()\n",
        "\n",
        "label_encoder = LabelEncoder()\n",
        "y_train_encoded = label_encoder.fit_transform(y_train)\n",
        "train_accuracies,val_accuracies = train_model_with_optimizers(X_train_tfidf, y_train_encoded,optimizers)"
      ],
      "metadata": {
        "colab": {
          "base_uri": "https://localhost:8080/",
          "height": 143
        },
        "id": "CTPBbAZLY0Az",
        "outputId": "5762f775-ffc0-46f8-810b-76dfc916b88e"
      },
      "execution_count": null,
      "outputs": [
        {
          "output_type": "display_data",
          "data": {
            "text/plain": [
              "  Optimizers  Avg Train Accuracy  Std Train Accuracy  Avg Val Accuracy  \\\n",
              "0        SGD           22.554614            1.631484         21.822571   \n",
              "1       Adam          100.000000            0.000000         97.460360   \n",
              "2    RMSprop          100.000000            0.000000         97.178670   \n",
              "\n",
              "   Std Val Accuracy  \n",
              "0          2.825511  \n",
              "1          1.175269  \n",
              "2          0.984394  "
            ],
            "text/html": [
              "\n",
              "  <div id=\"df-0598e937-3850-4c7e-86a2-74f25f5c9380\" class=\"colab-df-container\">\n",
              "    <div>\n",
              "<style scoped>\n",
              "    .dataframe tbody tr th:only-of-type {\n",
              "        vertical-align: middle;\n",
              "    }\n",
              "\n",
              "    .dataframe tbody tr th {\n",
              "        vertical-align: top;\n",
              "    }\n",
              "\n",
              "    .dataframe thead th {\n",
              "        text-align: right;\n",
              "    }\n",
              "</style>\n",
              "<table border=\"1\" class=\"dataframe\">\n",
              "  <thead>\n",
              "    <tr style=\"text-align: right;\">\n",
              "      <th></th>\n",
              "      <th>Optimizers</th>\n",
              "      <th>Avg Train Accuracy</th>\n",
              "      <th>Std Train Accuracy</th>\n",
              "      <th>Avg Val Accuracy</th>\n",
              "      <th>Std Val Accuracy</th>\n",
              "    </tr>\n",
              "  </thead>\n",
              "  <tbody>\n",
              "    <tr>\n",
              "      <th>0</th>\n",
              "      <td>SGD</td>\n",
              "      <td>22.554614</td>\n",
              "      <td>1.631484</td>\n",
              "      <td>21.822571</td>\n",
              "      <td>2.825511</td>\n",
              "    </tr>\n",
              "    <tr>\n",
              "      <th>1</th>\n",
              "      <td>Adam</td>\n",
              "      <td>100.000000</td>\n",
              "      <td>0.000000</td>\n",
              "      <td>97.460360</td>\n",
              "      <td>1.175269</td>\n",
              "    </tr>\n",
              "    <tr>\n",
              "      <th>2</th>\n",
              "      <td>RMSprop</td>\n",
              "      <td>100.000000</td>\n",
              "      <td>0.000000</td>\n",
              "      <td>97.178670</td>\n",
              "      <td>0.984394</td>\n",
              "    </tr>\n",
              "  </tbody>\n",
              "</table>\n",
              "</div>\n",
              "    <div class=\"colab-df-buttons\">\n",
              "\n",
              "  <div class=\"colab-df-container\">\n",
              "    <button class=\"colab-df-convert\" onclick=\"convertToInteractive('df-0598e937-3850-4c7e-86a2-74f25f5c9380')\"\n",
              "            title=\"Convert this dataframe to an interactive table.\"\n",
              "            style=\"display:none;\">\n",
              "\n",
              "  <svg xmlns=\"http://www.w3.org/2000/svg\" height=\"24px\" viewBox=\"0 -960 960 960\">\n",
              "    <path d=\"M120-120v-720h720v720H120Zm60-500h600v-160H180v160Zm220 220h160v-160H400v160Zm0 220h160v-160H400v160ZM180-400h160v-160H180v160Zm440 0h160v-160H620v160ZM180-180h160v-160H180v160Zm440 0h160v-160H620v160Z\"/>\n",
              "  </svg>\n",
              "    </button>\n",
              "\n",
              "  <style>\n",
              "    .colab-df-container {\n",
              "      display:flex;\n",
              "      gap: 12px;\n",
              "    }\n",
              "\n",
              "    .colab-df-convert {\n",
              "      background-color: #E8F0FE;\n",
              "      border: none;\n",
              "      border-radius: 50%;\n",
              "      cursor: pointer;\n",
              "      display: none;\n",
              "      fill: #1967D2;\n",
              "      height: 32px;\n",
              "      padding: 0 0 0 0;\n",
              "      width: 32px;\n",
              "    }\n",
              "\n",
              "    .colab-df-convert:hover {\n",
              "      background-color: #E2EBFA;\n",
              "      box-shadow: 0px 1px 2px rgba(60, 64, 67, 0.3), 0px 1px 3px 1px rgba(60, 64, 67, 0.15);\n",
              "      fill: #174EA6;\n",
              "    }\n",
              "\n",
              "    .colab-df-buttons div {\n",
              "      margin-bottom: 4px;\n",
              "    }\n",
              "\n",
              "    [theme=dark] .colab-df-convert {\n",
              "      background-color: #3B4455;\n",
              "      fill: #D2E3FC;\n",
              "    }\n",
              "\n",
              "    [theme=dark] .colab-df-convert:hover {\n",
              "      background-color: #434B5C;\n",
              "      box-shadow: 0px 1px 3px 1px rgba(0, 0, 0, 0.15);\n",
              "      filter: drop-shadow(0px 1px 2px rgba(0, 0, 0, 0.3));\n",
              "      fill: #FFFFFF;\n",
              "    }\n",
              "  </style>\n",
              "\n",
              "    <script>\n",
              "      const buttonEl =\n",
              "        document.querySelector('#df-0598e937-3850-4c7e-86a2-74f25f5c9380 button.colab-df-convert');\n",
              "      buttonEl.style.display =\n",
              "        google.colab.kernel.accessAllowed ? 'block' : 'none';\n",
              "\n",
              "      async function convertToInteractive(key) {\n",
              "        const element = document.querySelector('#df-0598e937-3850-4c7e-86a2-74f25f5c9380');\n",
              "        const dataTable =\n",
              "          await google.colab.kernel.invokeFunction('convertToInteractive',\n",
              "                                                    [key], {});\n",
              "        if (!dataTable) return;\n",
              "\n",
              "        const docLinkHtml = 'Like what you see? Visit the ' +\n",
              "          '<a target=\"_blank\" href=https://colab.research.google.com/notebooks/data_table.ipynb>data table notebook</a>'\n",
              "          + ' to learn more about interactive tables.';\n",
              "        element.innerHTML = '';\n",
              "        dataTable['output_type'] = 'display_data';\n",
              "        await google.colab.output.renderOutput(dataTable, element);\n",
              "        const docLink = document.createElement('div');\n",
              "        docLink.innerHTML = docLinkHtml;\n",
              "        element.appendChild(docLink);\n",
              "      }\n",
              "    </script>\n",
              "  </div>\n",
              "\n",
              "\n",
              "<div id=\"df-9b91dbbc-1446-4e1c-a07f-94560b96442a\">\n",
              "  <button class=\"colab-df-quickchart\" onclick=\"quickchart('df-9b91dbbc-1446-4e1c-a07f-94560b96442a')\"\n",
              "            title=\"Suggest charts.\"\n",
              "            style=\"display:none;\">\n",
              "\n",
              "<svg xmlns=\"http://www.w3.org/2000/svg\" height=\"24px\"viewBox=\"0 0 24 24\"\n",
              "     width=\"24px\">\n",
              "    <g>\n",
              "        <path d=\"M19 3H5c-1.1 0-2 .9-2 2v14c0 1.1.9 2 2 2h14c1.1 0 2-.9 2-2V5c0-1.1-.9-2-2-2zM9 17H7v-7h2v7zm4 0h-2V7h2v10zm4 0h-2v-4h2v4z\"/>\n",
              "    </g>\n",
              "</svg>\n",
              "  </button>\n",
              "\n",
              "<style>\n",
              "  .colab-df-quickchart {\n",
              "      --bg-color: #E8F0FE;\n",
              "      --fill-color: #1967D2;\n",
              "      --hover-bg-color: #E2EBFA;\n",
              "      --hover-fill-color: #174EA6;\n",
              "      --disabled-fill-color: #AAA;\n",
              "      --disabled-bg-color: #DDD;\n",
              "  }\n",
              "\n",
              "  [theme=dark] .colab-df-quickchart {\n",
              "      --bg-color: #3B4455;\n",
              "      --fill-color: #D2E3FC;\n",
              "      --hover-bg-color: #434B5C;\n",
              "      --hover-fill-color: #FFFFFF;\n",
              "      --disabled-bg-color: #3B4455;\n",
              "      --disabled-fill-color: #666;\n",
              "  }\n",
              "\n",
              "  .colab-df-quickchart {\n",
              "    background-color: var(--bg-color);\n",
              "    border: none;\n",
              "    border-radius: 50%;\n",
              "    cursor: pointer;\n",
              "    display: none;\n",
              "    fill: var(--fill-color);\n",
              "    height: 32px;\n",
              "    padding: 0;\n",
              "    width: 32px;\n",
              "  }\n",
              "\n",
              "  .colab-df-quickchart:hover {\n",
              "    background-color: var(--hover-bg-color);\n",
              "    box-shadow: 0 1px 2px rgba(60, 64, 67, 0.3), 0 1px 3px 1px rgba(60, 64, 67, 0.15);\n",
              "    fill: var(--button-hover-fill-color);\n",
              "  }\n",
              "\n",
              "  .colab-df-quickchart-complete:disabled,\n",
              "  .colab-df-quickchart-complete:disabled:hover {\n",
              "    background-color: var(--disabled-bg-color);\n",
              "    fill: var(--disabled-fill-color);\n",
              "    box-shadow: none;\n",
              "  }\n",
              "\n",
              "  .colab-df-spinner {\n",
              "    border: 2px solid var(--fill-color);\n",
              "    border-color: transparent;\n",
              "    border-bottom-color: var(--fill-color);\n",
              "    animation:\n",
              "      spin 1s steps(1) infinite;\n",
              "  }\n",
              "\n",
              "  @keyframes spin {\n",
              "    0% {\n",
              "      border-color: transparent;\n",
              "      border-bottom-color: var(--fill-color);\n",
              "      border-left-color: var(--fill-color);\n",
              "    }\n",
              "    20% {\n",
              "      border-color: transparent;\n",
              "      border-left-color: var(--fill-color);\n",
              "      border-top-color: var(--fill-color);\n",
              "    }\n",
              "    30% {\n",
              "      border-color: transparent;\n",
              "      border-left-color: var(--fill-color);\n",
              "      border-top-color: var(--fill-color);\n",
              "      border-right-color: var(--fill-color);\n",
              "    }\n",
              "    40% {\n",
              "      border-color: transparent;\n",
              "      border-right-color: var(--fill-color);\n",
              "      border-top-color: var(--fill-color);\n",
              "    }\n",
              "    60% {\n",
              "      border-color: transparent;\n",
              "      border-right-color: var(--fill-color);\n",
              "    }\n",
              "    80% {\n",
              "      border-color: transparent;\n",
              "      border-right-color: var(--fill-color);\n",
              "      border-bottom-color: var(--fill-color);\n",
              "    }\n",
              "    90% {\n",
              "      border-color: transparent;\n",
              "      border-bottom-color: var(--fill-color);\n",
              "    }\n",
              "  }\n",
              "</style>\n",
              "\n",
              "  <script>\n",
              "    async function quickchart(key) {\n",
              "      const quickchartButtonEl =\n",
              "        document.querySelector('#' + key + ' button');\n",
              "      quickchartButtonEl.disabled = true;  // To prevent multiple clicks.\n",
              "      quickchartButtonEl.classList.add('colab-df-spinner');\n",
              "      try {\n",
              "        const charts = await google.colab.kernel.invokeFunction(\n",
              "            'suggestCharts', [key], {});\n",
              "      } catch (error) {\n",
              "        console.error('Error during call to suggestCharts:', error);\n",
              "      }\n",
              "      quickchartButtonEl.classList.remove('colab-df-spinner');\n",
              "      quickchartButtonEl.classList.add('colab-df-quickchart-complete');\n",
              "    }\n",
              "    (() => {\n",
              "      let quickchartButtonEl =\n",
              "        document.querySelector('#df-9b91dbbc-1446-4e1c-a07f-94560b96442a button');\n",
              "      quickchartButtonEl.style.display =\n",
              "        google.colab.kernel.accessAllowed ? 'block' : 'none';\n",
              "    })();\n",
              "  </script>\n",
              "</div>\n",
              "    </div>\n",
              "  </div>\n"
            ]
          },
          "metadata": {}
        }
      ]
    },
    {
      "cell_type": "code",
      "source": [
        "#Plotting the training and validation accuracies w.r.t min samples leaf\n",
        "print(\"\\n\")\n",
        "plt.plot(optimizers, train_accuracies, marker='.', label=\"Training accuracy\")\n",
        "plt.plot(optimizers, val_accuracies, marker='.', label=\"Validation accuracy\")\n",
        "plt.xlabel('Optimizers of NN model')\n",
        "plt.ylabel('Accuracy')\n",
        "plt.legend()"
      ],
      "metadata": {
        "colab": {
          "base_uri": "https://localhost:8080/",
          "height": 501
        },
        "id": "YHUAd5v_Y0D0",
        "outputId": "242e8dfd-c175-4484-877a-4a68360672c3"
      },
      "execution_count": null,
      "outputs": [
        {
          "output_type": "stream",
          "name": "stdout",
          "text": [
            "\n",
            "\n"
          ]
        },
        {
          "output_type": "execute_result",
          "data": {
            "text/plain": [
              "<matplotlib.legend.Legend at 0x7cb30bbff0d0>"
            ]
          },
          "metadata": {},
          "execution_count": 103
        },
        {
          "output_type": "display_data",
          "data": {
            "text/plain": [
              "<Figure size 640x480 with 1 Axes>"
            ],
            "image/png": "[encoded data removed]"
          },
          "metadata": {}
        }
      ]
    },
    {
      "cell_type": "code",
      "source": [],
      "metadata": {
        "id": "Du6vCIacekYT"
      },
      "execution_count": null,
      "outputs": []
    },
    {
      "cell_type": "markdown",
      "source": [
        "# PART 3"
      ],
      "metadata": {
        "id": "l0JkDbwKemFA"
      }
    },
    {
      "cell_type": "markdown",
      "source": [
        "From section I get best results at learning_rate=0.001 and optimizer = Adam and Vectorizer as TF-IDF"
      ],
      "metadata": {
        "id": "WGK_bVDwip7N"
      }
    },
    {
      "cell_type": "code",
      "source": [
        "def test_model(X_train, y_train, X_test):\n",
        "\n",
        "    # Initialize the model\n",
        "    model = NeuralNetwork(X_train.shape[1], 128, 128, len(np.unique(y_train)))\n",
        "    loss_fn = nn.CrossEntropyLoss()\n",
        "    optimizer = optim.Adam(model.parameters(), lr=0.001)\n",
        "\n",
        "    # Convert training data to DataLoader format\n",
        "    train_data = Data(X_train, y_train)\n",
        "    train_loader = DataLoader(dataset=train_data, batch_size=64, shuffle=True)\n",
        "\n",
        "    # Convert test data to DataLoader format\n",
        "    test_data = Data(X_test, np.zeros(X_test.shape[0]))\n",
        "    test_loader = DataLoader(dataset=test_data, batch_size=64, shuffle=False)\n",
        "\n",
        "    ## Train the model\n",
        "    train_model(model,optimizer,train_loader,loss_fn)\n",
        "\n",
        "    acc = evaluate(model, train_loader)\n",
        "\n",
        "    print(f\"Train accuraccy: {acc}\")\n",
        "\n",
        "    # Make predictions on the test data\n",
        "    predictions = []\n",
        "    with torch.no_grad():\n",
        "        for X, _ in test_loader:\n",
        "            pred = model(X)\n",
        "            predictions.extend(torch.argmax(pred, dim=1).tolist())\n",
        "\n",
        "    return predictions"
      ],
      "metadata": {
        "id": "uMi8hXsxeoKs"
      },
      "execution_count": 28,
      "outputs": []
    },
    {
      "cell_type": "code",
      "source": [
        "X_train = train_df['cleaned_text'].copy()\n",
        "y_train = train_df['Category'].copy()\n",
        "X_test = test_df['cleaned_text'].copy()"
      ],
      "metadata": {
        "id": "VRTfT9LpjYn0"
      },
      "execution_count": 29,
      "outputs": []
    },
    {
      "cell_type": "code",
      "source": [
        "from sklearn.feature_extraction.text import TfidfVectorizer\n",
        "tfidf_vectorizer = TfidfVectorizer()\n",
        "\n",
        "X_train_tfidf = tfidf_vectorizer.fit_transform(X_train)\n",
        "X_test_tfidf = tfidf_vectorizer.transform(X_test)\n",
        "X_train_tfidf = X_train_tfidf.toarray()\n",
        "X_test_tfidf = X_test_tfidf.toarray()\n",
        "\n",
        "label_encoder = LabelEncoder()\n",
        "y_train_encoded = label_encoder.fit_transform(y_train)\n",
        "\n",
        "# Convert data to numpy arrays\n",
        "X_train_tfidf = np.array(X_train_tfidf)\n",
        "y_train_encoded = np.array(y_train_encoded)\n",
        "X_test_tfidf = np.array(X_test_tfidf)\n",
        "predictions = test_model(X_train_tfidf, y_train_encoded,X_test_tfidf)"
      ],
      "metadata": {
        "id": "b5t-RDcajIbD",
        "colab": {
          "base_uri": "https://localhost:8080/"
        },
        "outputId": "91147713-2a69-4e8a-c036-d3bad1b765f7"
      },
      "execution_count": 30,
      "outputs": [
        {
          "output_type": "stream",
          "name": "stdout",
          "text": [
            "Train accuraccy: 100.0\n"
          ]
        }
      ]
    },
    {
      "cell_type": "code",
      "source": [
        "# Decode the predictions back to their original category labels\n",
        "y_test_predicted = label_encoder.inverse_transform(predictions)\n",
        "\n",
        "test_df['Category'] = y_test_predicted\n",
        "\n",
        "test_df = test_df[[\"ArticleId\",\"Category\"]]\n",
        "test_df.to_csv('labels.csv', index=False,header=False)"
      ],
      "metadata": {
        "id": "lVYuHLhn0hVn"
      },
      "execution_count": 33,
      "outputs": []
    },
    {
      "cell_type": "code",
      "source": [],
      "metadata": {
        "id": "qi52O-2ouNb1"
      },
      "execution_count": null,
      "outputs": []
    }
  ]
}
